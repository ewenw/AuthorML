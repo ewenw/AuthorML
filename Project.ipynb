{
 "cells": [
  {
   "cell_type": "code",
   "execution_count": 28,
   "metadata": {},
   "outputs": [],
   "source": [
    "from sklearn.feature_extraction.text import TfidfVectorizer\n",
    "from sklearn.datasets import load_files\n",
    "from sklearn.feature_selection import SelectKBest, chi2, f_classif\n",
    "import pandas as pd\n",
    "import numpy as np"
   ]
  },
  {
   "cell_type": "code",
   "execution_count": 54,
   "metadata": {},
   "outputs": [],
   "source": [
    "texts = load_files('data', encoding=\"ansi\")\n",
    "sample_length = 2000\n",
    "\n",
    "def split_text(text, sample_length):\n",
    "    samples = []\n",
    "    i=0\n",
    "    while i < len(text):\n",
    "        while i > 0 and text[i].isalpha():\n",
    "            i+=1\n",
    "            samples[len(samples)-1] += text[i]\n",
    "        samples.append(text[i:i+sample_length+1])\n",
    "        i += sample_length\n",
    "    del samples[0]\n",
    "    return samples\n",
    "data = []\n",
    "labels = []\n",
    "j = 0\n",
    "for text in texts.data:\n",
    "    new_records = split_text(text, sample_length)\n",
    "    data += new_records\n",
    "    for i in range(0,len(new_records)):\n",
    "        labels.append(texts.target[j])\n",
    "    j+=1\n",
    "texts.data = data\n",
    "texts.target = labels"
   ]
  },
  {
   "cell_type": "code",
   "execution_count": 69,
   "metadata": {},
   "outputs": [],
   "source": [
    "# extract unigrams and bigrams\n",
    "count_vect = TfidfVectorizer(stop_words='english',lowercase=True, ngram_range=(1,2), min_df=0.001, max_df=0.1)\n",
    "vector = count_vect.fit_transform(texts.data)"
   ]
  },
  {
   "cell_type": "code",
   "execution_count": null,
   "metadata": {},
   "outputs": [],
   "source": []
  },
  {
   "cell_type": "code",
   "execution_count": 70,
   "metadata": {},
   "outputs": [
    {
     "data": {
      "text/plain": [
       "(11028, 18048)"
      ]
     },
     "execution_count": 70,
     "metadata": {},
     "output_type": "execute_result"
    }
   ],
   "source": [
    "df = pd.DataFrame(vector.todense(), columns=count_vect.get_feature_names())\n",
    "df.shape"
   ]
  },
  {
   "cell_type": "code",
   "execution_count": 91,
   "metadata": {},
   "outputs": [],
   "source": [
    "msk = np.random.rand(len(df)) < 0.75\n",
    "train_x = df[msk]\n",
    "train_y = pd.Series(labels)[msk]\n",
    "test_x = df[~msk]\n",
    "test_y = pd.Series(labels)[~msk]\n",
    "assert(len(train_x)==len(train_y))"
   ]
  },
  {
   "cell_type": "code",
   "execution_count": 72,
   "metadata": {},
   "outputs": [],
   "source": [
    "# Retain 90% of the variance\n",
    "from sklearn.decomposition import PCA\n",
    "pca = PCA(n_components=0.9).fit(train_x)"
   ]
  },
  {
   "cell_type": "code",
   "execution_count": 94,
   "metadata": {},
   "outputs": [
    {
     "data": {
      "text/plain": [
       "(8311, 4336)"
      ]
     },
     "execution_count": 94,
     "metadata": {},
     "output_type": "execute_result"
    }
   ],
   "source": [
    "train_x_pca = pca.transform(train_x)\n",
    "test_x_pca = pca.transform(test_x)\n",
    "train_x_pca.shape"
   ]
  },
  {
   "cell_type": "code",
   "execution_count": 75,
   "metadata": {},
   "outputs": [],
   "source": [
    "selector = SelectKBest(f_classif, k=1000)\n",
    "selector.fit_transform(train_x_pca, train_y)\n",
    "selected_feature_ids = selector.get_support(indices=True)"
   ]
  },
  {
   "cell_type": "code",
   "execution_count": 96,
   "metadata": {},
   "outputs": [
    {
     "data": {
      "text/plain": [
       "1000"
      ]
     },
     "execution_count": 96,
     "metadata": {},
     "output_type": "execute_result"
    }
   ],
   "source": [
    "len(selected_feature_ids)"
   ]
  },
  {
   "cell_type": "code",
   "execution_count": 99,
   "metadata": {},
   "outputs": [],
   "source": [
    "train_x_reduced = train_x_pca[:,selected_feature_ids]\n",
    "test_x_reduced = test_x_pca[:,selected_feature_ids]\n",
    "assert(len(train_x_reduced)==len(train_y))\n",
    "assert(len(test_x_reduced)==len(test_y))"
   ]
  },
  {
   "cell_type": "code",
   "execution_count": null,
   "metadata": {},
   "outputs": [],
   "source": [
    "from sklearn.naive_bayes import GaussianNB\n",
    "nb = GaussianNB()\n",
    "nb.fit(train_x_pca, train_y)\n",
    "nb.score(test_x_pca, test_y)"
   ]
  },
  {
   "cell_type": "code",
   "execution_count": 117,
   "metadata": {},
   "outputs": [
    {
     "data": {
      "text/plain": [
       "0.9227088700772911"
      ]
     },
     "execution_count": 117,
     "metadata": {},
     "output_type": "execute_result"
    }
   ],
   "source": [
    "from sklearn.linear_model import LogisticRegression\n",
    "lr = LogisticRegression(solver='lbfgs', multi_class='multinomial')\n",
    "lr.fit(train_x_reduced, train_y)\n",
    "lr.score(test_x_reduced, test_y)"
   ]
  },
  {
   "cell_type": "code",
   "execution_count": 124,
   "metadata": {},
   "outputs": [
    {
     "data": {
      "text/plain": [
       "0.22046374677953626"
      ]
     },
     "execution_count": 124,
     "metadata": {},
     "output_type": "execute_result"
    }
   ],
   "source": [
    "from sklearn import svm\n",
    "svc = svm.SVC()\n",
    "svc.fit(train_x_reduced, train_y)\n",
    "svc.score(test_x_reduced, test_y)"
   ]
  },
  {
   "cell_type": "code",
   "execution_count": 129,
   "metadata": {},
   "outputs": [
    {
     "data": {
      "text/plain": [
       "0.9371916736854771"
      ]
     },
     "execution_count": 129,
     "metadata": {},
     "output_type": "execute_result"
    }
   ],
   "source": [
    "lr.score(train_x_reduced, train_y)"
   ]
  },
  {
   "cell_type": "code",
   "execution_count": 128,
   "metadata": {},
   "outputs": [
    {
     "data": {
      "text/plain": [
       "0.8601398601398601"
      ]
     },
     "execution_count": 128,
     "metadata": {},
     "output_type": "execute_result"
    }
   ],
   "source": [
    "from sklearn.ensemble import RandomForestClassifier\n",
    "rfc = RandomForestClassifier(n_estimators=2500, max_depth=10)\n",
    "rfc.fit(train_x_reduced, train_y)\n",
    "rfc.score(test_x_reduced, test_y)"
   ]
  }
 ],
 "metadata": {
  "kernelspec": {
   "display_name": "Python 3",
   "language": "python",
   "name": "python3"
  },
  "language_info": {
   "codemirror_mode": {
    "name": "ipython",
    "version": 3
   },
   "file_extension": ".py",
   "mimetype": "text/x-python",
   "name": "python",
   "nbconvert_exporter": "python",
   "pygments_lexer": "ipython3",
   "version": "3.6.2"
  }
 },
 "nbformat": 4,
 "nbformat_minor": 2
}
