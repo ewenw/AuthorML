{
 "cells": [
  {
   "cell_type": "code",
   "execution_count": 1,
   "metadata": {
    "scrolled": false
   },
   "outputs": [
    {
     "name": "stderr",
     "output_type": "stream",
     "text": [
      "Using TensorFlow backend.\n"
     ]
    }
   ],
   "source": [
    "from sklearn.feature_extraction.text import TfidfVectorizer\n",
    "from sklearn.datasets import load_files\n",
    "from sklearn.feature_selection import SelectKBest, chi2, f_classif\n",
    "import pandas as pd\n",
    "import numpy as np\n",
    "from keras.models import Sequential\n",
    "from keras.layers import Dense, Activation, Dropout\n",
    "import matplotlib.pyplot as plt"
   ]
  },
  {
   "cell_type": "code",
   "execution_count": 237,
   "metadata": {
    "scrolled": true
   },
   "outputs": [],
   "source": [
    "texts = load_files('data')\n",
    "sample_length = 2500\n",
    "def split_text(text, sample_length):\n",
    "    samples = []\n",
    "    i=0\n",
    "    while i < len(text):\n",
    "        while i > 0 and str(text[i]).isalpha():\n",
    "            i+=1\n",
    "            samples[len(samples)-1] += text[i]\n",
    "        samples.append(text[i:i+sample_length+1])\n",
    "        i += sample_length\n",
    "    del samples[0]\n",
    "    return samples\n",
    "data = []\n",
    "labels = []\n",
    "author_labels = []\n",
    "j = 0\n",
    "for text in texts.data:\n",
    "    new_records = split_text(text, sample_length)\n",
    "    data += new_records\n",
    "    for i in range(0,len(new_records)):\n",
    "        labels.append(texts.target[j])\n",
    "        author_labels.append(texts.target_names[texts.target[j]])\n",
    "    j+=1\n",
    "texts.data = data\n",
    "texts.target = labels"
   ]
  },
  {
   "cell_type": "code",
   "execution_count": 6,
   "metadata": {},
   "outputs": [],
   "source": [
    "# extract unigrams and bigrams\n",
    "count_vect = TfidfVectorizer(decode_error='ignore', stop_words='english',lowercase=True, ngram_range=(1,2), min_df=0.001, max_df=0.1)\n",
    "vector = count_vect.fit_transform(texts.data)"
   ]
  },
  {
   "cell_type": "code",
   "execution_count": 30,
   "metadata": {},
   "outputs": [
    {
     "data": {
      "text/plain": [
       "(8829, 23379)"
      ]
     },
     "execution_count": 30,
     "metadata": {},
     "output_type": "execute_result"
    }
   ],
   "source": [
    "vector.shape"
   ]
  },
  {
   "cell_type": "code",
   "execution_count": 21,
   "metadata": {},
   "outputs": [],
   "source": [
    "df = pd.DataFrame(vector.todense(), columns=count_vect.get_feature_names())"
   ]
  },
  {
   "cell_type": "code",
   "execution_count": 238,
   "metadata": {},
   "outputs": [],
   "source": [
    "msk = np.random.rand(len(df)) < 0.75\n",
    "train_x = df[msk]\n",
    "train_y = pd.Series(labels)[msk]\n",
    "test_x = df[~msk]\n",
    "test_y = pd.Series(labels)[~msk]\n",
    "test_authors = pd.Series(author_labels)[~msk]\n",
    "assert(len(train_x)==len(train_y))\n",
    "assert(len(test_x)==len(test_y))"
   ]
  },
  {
   "cell_type": "code",
   "execution_count": 24,
   "metadata": {},
   "outputs": [],
   "source": [
    "# Retain 90% of the variance\n",
    "from sklearn.decomposition import PCA\n",
    "pca = PCA(n_components=0.9).fit(train_x)"
   ]
  },
  {
   "cell_type": "code",
   "execution_count": 243,
   "metadata": {},
   "outputs": [
    {
     "data": {
      "text/plain": [
       "(6664, 3953)"
      ]
     },
     "execution_count": 243,
     "metadata": {},
     "output_type": "execute_result"
    }
   ],
   "source": [
    "train_x_pca = pca.transform(train_x)\n",
    "test_x_pca = pca.transform(test_x)\n",
    "train_x_pca.shape"
   ]
  },
  {
   "cell_type": "code",
   "execution_count": 28,
   "metadata": {},
   "outputs": [
    {
     "data": {
      "text/plain": [
       "5759"
      ]
     },
     "execution_count": 28,
     "metadata": {},
     "output_type": "execute_result"
    }
   ],
   "source": [
    "import gc\n",
    "gc.collect()"
   ]
  },
  {
   "cell_type": "code",
   "execution_count": 245,
   "metadata": {},
   "outputs": [],
   "source": [
    "selector = SelectKBest(f_classif, k=1000)\n",
    "selector.fit_transform(train_x_pca, train_y)\n",
    "selected_feature_ids = selector.get_support(indices=True)\n",
    "train_x_reduced = train_x_pca[:,selected_feature_ids]\n",
    "test_x_reduced = test_x_pca[:,selected_feature_ids]\n",
    "assert(len(train_x_reduced)==len(train_y))\n",
    "assert(len(test_x_reduced)==len(test_y))"
   ]
  },
  {
   "cell_type": "code",
   "execution_count": null,
   "metadata": {},
   "outputs": [],
   "source": []
  },
  {
   "cell_type": "code",
   "execution_count": 27,
   "metadata": {},
   "outputs": [],
   "source": [
    "from sklearn.metrics import precision_recall_fscore_support\n",
    "def print_metrics(model):\n",
    "    y_pred = model.predict(test_x_reduced)\n",
    "    scores = precision_recall_fscore_support(test_y, y_pred, average='macro')\n",
    "    print(\"Accuracy, Precision, Recall, F-score\")\n",
    "    print(str(round(model.score(test_x_reduced, test_y),3)) + \"     \" + str(round(scores[0],3))\n",
    "         + \"      \" + str(round(scores[1],3)) + \"    \" + str(round(scores[2],3)))"
   ]
  },
  {
   "cell_type": "code",
   "execution_count": 64,
   "metadata": {},
   "outputs": [
    {
     "name": "stdout",
     "output_type": "stream",
     "text": [
      "Accuracy, Precision, Recall, F-score\n",
      "0.678     0.752      0.7    0.632\n"
     ]
    }
   ],
   "source": [
    "from sklearn.naive_bayes import GaussianNB\n",
    "nb = GaussianNB()\n",
    "nb.fit(train_x_reduced, train_y)\n",
    "print_metrics(nb)"
   ]
  },
  {
   "cell_type": "code",
   "execution_count": 67,
   "metadata": {},
   "outputs": [
    {
     "name": "stdout",
     "output_type": "stream",
     "text": [
      "Accuracy, Precision, Recall, F-score\n",
      "0.918     0.95      0.759    0.814\n"
     ]
    }
   ],
   "source": [
    "from sklearn.linear_model import LogisticRegression\n",
    "lr = LogisticRegression(max_iter=150, solver='lbfgs', multi_class='multinomial')\n",
    "lr.fit(train_x_reduced, train_y)\n",
    "print_metrics(lr)"
   ]
  },
  {
   "cell_type": "code",
   "execution_count": 71,
   "metadata": {},
   "outputs": [
    {
     "name": "stdout",
     "output_type": "stream",
     "text": [
      "C: 0.2\n",
      "Accuracy, Precision, Recall, F-score\n",
      "0.937     0.957      0.854    0.896\n",
      "C: 0.6\n",
      "Accuracy, Precision, Recall, F-score\n",
      "0.944     0.963      0.88    0.916\n",
      "C: 1.0\n",
      "Accuracy, Precision, Recall, F-score\n",
      "0.947     0.97      0.888    0.924\n",
      "C: 1.4\n",
      "Accuracy, Precision, Recall, F-score\n",
      "0.949     0.968      0.894    0.927\n",
      "C: 1.8\n",
      "Accuracy, Precision, Recall, F-score\n",
      "0.949     0.968      0.895    0.927\n"
     ]
    }
   ],
   "source": [
    "from sklearn.svm import LinearSVC\n",
    "C = [0.2, 0.6, 1.0, 1.4, 1.8]\n",
    "for c in C:\n",
    "    linear_svc = LinearSVC(C=c)\n",
    "    linear_svc.fit(train_x_reduced, train_y)\n",
    "    print(\"C: \" + str(c))\n",
    "    print_metrics(linear_svc)"
   ]
  },
  {
   "cell_type": "code",
   "execution_count": 40,
   "metadata": {},
   "outputs": [
    {
     "data": {
      "text/plain": [
       "0.9460269865067467"
      ]
     },
     "execution_count": 40,
     "metadata": {},
     "output_type": "execute_result"
    }
   ],
   "source": [
    "lr.score(train_x_reduced, train_y)"
   ]
  },
  {
   "cell_type": "code",
   "execution_count": 72,
   "metadata": {},
   "outputs": [
    {
     "name": "stdout",
     "output_type": "stream",
     "text": [
      "Accuracy, Precision, Recall, F-score\n",
      "0.875     0.923      0.689    0.741\n"
     ]
    }
   ],
   "source": [
    "from sklearn.ensemble import RandomForestClassifier\n",
    "rfc = RandomForestClassifier(n_estimators=2500, max_depth=10)\n",
    "rfc.fit(train_x_reduced, train_y)\n",
    "print_metrics(rfc)"
   ]
  },
  {
   "cell_type": "code",
   "execution_count": 74,
   "metadata": {},
   "outputs": [
    {
     "name": "stdout",
     "output_type": "stream",
     "text": [
      "N_trees: 100\n",
      "Accuracy, Precision, Recall, F-score\n",
      "0.898     0.857      0.769    0.802\n",
      "N_trees: 200\n",
      "Accuracy, Precision, Recall, F-score\n",
      "0.903     0.857      0.772    0.803\n",
      "N_trees: 300\n",
      "Accuracy, Precision, Recall, F-score\n",
      "0.901     0.85      0.763    0.795\n",
      "N_trees: 400\n",
      "Accuracy, Precision, Recall, F-score\n",
      "0.903     0.853      0.767    0.799\n"
     ]
    }
   ],
   "source": [
    "from sklearn.ensemble import RandomForestClassifier\n",
    "trees = [100, 200, 300, 400]\n",
    "for n in trees:\n",
    "    print(\"N_trees: \" + str(n))\n",
    "    rfc = RandomForestClassifier(n_estimators=n)\n",
    "    rfc.fit(train_x_reduced, train_y)\n",
    "    print_metrics(rfc)"
   ]
  },
  {
   "cell_type": "code",
   "execution_count": 108,
   "metadata": {},
   "outputs": [
    {
     "name": "stdout",
     "output_type": "stream",
     "text": [
      "N_estimators: 100\n",
      "Logistic Regression: \n"
     ]
    },
    {
     "name": "stderr",
     "output_type": "stream",
     "text": [
      "/home/ewenw/.local/lib/python3.6/site-packages/sklearn/linear_model/logistic.py:758: ConvergenceWarning: lbfgs failed to converge. Increase the number of iterations.\n",
      "  \"of iterations.\", ConvergenceWarning)\n",
      "/home/ewenw/.local/lib/python3.6/site-packages/sklearn/metrics/classification.py:1143: UndefinedMetricWarning: Precision and F-score are ill-defined and being set to 0.0 in labels with no predicted samples.\n",
      "  'precision', 'predicted', average, warn_for)\n"
     ]
    },
    {
     "name": "stdout",
     "output_type": "stream",
     "text": [
      "Accuracy, Precision, Recall, F-score\n",
      "0.408     0.081      0.17    0.107\n",
      "Decision Trees: \n",
      "Accuracy, Precision, Recall, F-score\n",
      "0.495     0.582      0.361    0.383\n",
      "N_estimators: 200\n",
      "Logistic Regression: \n"
     ]
    },
    {
     "name": "stderr",
     "output_type": "stream",
     "text": [
      "/home/ewenw/.local/lib/python3.6/site-packages/sklearn/linear_model/logistic.py:758: ConvergenceWarning: lbfgs failed to converge. Increase the number of iterations.\n",
      "  \"of iterations.\", ConvergenceWarning)\n",
      "/home/ewenw/.local/lib/python3.6/site-packages/sklearn/metrics/classification.py:1143: UndefinedMetricWarning: Precision and F-score are ill-defined and being set to 0.0 in labels with no predicted samples.\n",
      "  'precision', 'predicted', average, warn_for)\n"
     ]
    },
    {
     "name": "stdout",
     "output_type": "stream",
     "text": [
      "Accuracy, Precision, Recall, F-score\n",
      "0.432     0.457      0.182    0.126\n",
      "Decision Trees: \n",
      "Accuracy, Precision, Recall, F-score\n",
      "0.488     0.597      0.386    0.423\n"
     ]
    }
   ],
   "source": [
    "from sklearn.ensemble import AdaBoostClassifier\n",
    "from sklearn.tree import DecisionTreeClassifier\n",
    "estimators = [100, 200]\n",
    "for n in estimators:\n",
    "    print(\"N_estimators: \" + str(n))\n",
    "    print(\"Logistic Regression: \")\n",
    "    ada = AdaBoostClassifier(LogisticRegression(max_iter=10, solver='lbfgs', multi_class='multinomial'), n_estimators=n)   \n",
    "    ada.fit(train_x_reduced, train_y)\n",
    "    print_metrics(ada)\n",
    "    print(\"Decision Trees: \")\n",
    "    ada = AdaBoostClassifier(DecisionTreeClassifier(max_depth=2), n_estimators=n)\n",
    "    ada.fit(train_x_reduced, train_y)\n",
    "    print_metrics(ada)"
   ]
  },
  {
   "cell_type": "code",
   "execution_count": 250,
   "metadata": {},
   "outputs": [
    {
     "name": "stdout",
     "output_type": "stream",
     "text": [
      "Epoch 1/40\n",
      "6664/6664 [==============================] - 1s 183us/step - loss: 0.3015 - acc: 0.9091\n",
      "Epoch 2/40\n",
      "6664/6664 [==============================] - 1s 77us/step - loss: 0.2834 - acc: 0.9091\n",
      "Epoch 3/40\n",
      "6664/6664 [==============================] - 1s 109us/step - loss: 0.2629 - acc: 0.9091\n",
      "Epoch 4/40\n",
      "6664/6664 [==============================] - 1s 77us/step - loss: 0.2415 - acc: 0.9091\n",
      "Epoch 5/40\n",
      "6664/6664 [==============================] - 0s 73us/step - loss: 0.2186 - acc: 0.9116\n",
      "Epoch 6/40\n",
      "6664/6664 [==============================] - 0s 75us/step - loss: 0.1950 - acc: 0.9225\n",
      "Epoch 7/40\n",
      "6664/6664 [==============================] - 1s 76us/step - loss: 0.1713 - acc: 0.9345\n",
      "Epoch 8/40\n",
      "6664/6664 [==============================] - 1s 77us/step - loss: 0.1483 - acc: 0.9468\n",
      "Epoch 9/40\n",
      "6664/6664 [==============================] - 0s 73us/step - loss: 0.1289 - acc: 0.9589\n",
      "Epoch 10/40\n",
      "6664/6664 [==============================] - 0s 74us/step - loss: 0.1112 - acc: 0.9693\n",
      "Epoch 11/40\n",
      "6664/6664 [==============================] - 0s 74us/step - loss: 0.0958 - acc: 0.9773\n",
      "Epoch 12/40\n",
      "6664/6664 [==============================] - 1s 98us/step - loss: 0.0847 - acc: 0.9815\n",
      "Epoch 13/40\n",
      "6664/6664 [==============================] - 1s 87us/step - loss: 0.0749 - acc: 0.9844\n",
      "Epoch 14/40\n",
      "6664/6664 [==============================] - 0s 73us/step - loss: 0.0672 - acc: 0.9857\n",
      "Epoch 15/40\n",
      "6664/6664 [==============================] - 1s 85us/step - loss: 0.0603 - acc: 0.9869\n",
      "Epoch 16/40\n",
      "6664/6664 [==============================] - 1s 80us/step - loss: 0.0551 - acc: 0.9875\n",
      "Epoch 17/40\n",
      "6664/6664 [==============================] - 1s 89us/step - loss: 0.0496 - acc: 0.9881\n",
      "Epoch 18/40\n",
      "6664/6664 [==============================] - 0s 67us/step - loss: 0.0455 - acc: 0.9886\n",
      "Epoch 19/40\n",
      "6664/6664 [==============================] - 1s 106us/step - loss: 0.0418 - acc: 0.9893\n",
      "Epoch 20/40\n",
      "6664/6664 [==============================] - 1s 90us/step - loss: 0.0379 - acc: 0.9905\n",
      "Epoch 21/40\n",
      "6664/6664 [==============================] - 1s 85us/step - loss: 0.0347 - acc: 0.9914\n",
      "Epoch 22/40\n",
      "6664/6664 [==============================] - 1s 105us/step - loss: 0.0322 - acc: 0.9921\n",
      "Epoch 23/40\n",
      "6664/6664 [==============================] - 1s 127us/step - loss: 0.0301 - acc: 0.9928\n",
      "Epoch 24/40\n",
      "6664/6664 [==============================] - 1s 102us/step - loss: 0.0276 - acc: 0.9932\n",
      "Epoch 25/40\n",
      "6664/6664 [==============================] - 1s 101us/step - loss: 0.0264 - acc: 0.9936\n",
      "Epoch 26/40\n",
      "6664/6664 [==============================] - 1s 80us/step - loss: 0.0244 - acc: 0.9940\n",
      "Epoch 27/40\n",
      "6664/6664 [==============================] - 1s 110us/step - loss: 0.0229 - acc: 0.9944\n",
      "Epoch 28/40\n",
      "6664/6664 [==============================] - 1s 118us/step - loss: 0.0220 - acc: 0.9946\n",
      "Epoch 29/40\n",
      "6664/6664 [==============================] - 1s 129us/step - loss: 0.0209 - acc: 0.9948\n",
      "Epoch 30/40\n",
      "6664/6664 [==============================] - 1s 118us/step - loss: 0.0205 - acc: 0.9948\n",
      "Epoch 31/40\n",
      "6664/6664 [==============================] - 1s 134us/step - loss: 0.0195 - acc: 0.9949\n",
      "Epoch 32/40\n",
      "6664/6664 [==============================] - 1s 90us/step - loss: 0.0191 - acc: 0.9949\n",
      "Epoch 33/40\n",
      "6664/6664 [==============================] - 1s 108us/step - loss: 0.0185 - acc: 0.9950\n",
      "Epoch 34/40\n",
      "6664/6664 [==============================] - 1s 93us/step - loss: 0.0183 - acc: 0.9951\n",
      "Epoch 35/40\n",
      "6664/6664 [==============================] - 1s 80us/step - loss: 0.0177 - acc: 0.9951\n",
      "Epoch 36/40\n",
      "6664/6664 [==============================] - 1s 109us/step - loss: 0.0175 - acc: 0.9951\n",
      "Epoch 37/40\n",
      "6664/6664 [==============================] - 1s 78us/step - loss: 0.0169 - acc: 0.9953\n",
      "Epoch 38/40\n",
      "6664/6664 [==============================] - 1s 111us/step - loss: 0.0167 - acc: 0.9953\n",
      "Epoch 39/40\n",
      "6664/6664 [==============================] - 1s 111us/step - loss: 0.0166 - acc: 0.9953\n",
      "Epoch 40/40\n",
      "6664/6664 [==============================] - 1s 91us/step - loss: 0.0163 - acc: 0.9953\n"
     ]
    },
    {
     "data": {
      "text/plain": [
       "<keras.callbacks.History at 0x7ff5d0070908>"
      ]
     },
     "execution_count": 250,
     "metadata": {},
     "output_type": "execute_result"
    }
   ],
   "source": [
    "from keras.utils import to_categorical\n",
    "one_hot_train_y = to_categorical(train_y, num_classes=11)\n",
    "model = Sequential([\n",
    "    Dense(1000, input_dim=1000),\n",
    "    Dropout(0.25),\n",
    "    Activation('relu'),\n",
    "    Dense(100),\n",
    "    Dropout(0.25),\n",
    "    Activation('relu'),\n",
    "    Dense(11),\n",
    "    Activation('softmax'),\n",
    "])\n",
    "model.compile(optimizer='rmsprop',\n",
    "              loss='binary_crossentropy',\n",
    "              metrics=['accuracy'])\n",
    "\n",
    "model.fit(train_x_reduced, one_hot_train_y, epochs=40, batch_size=3000)"
   ]
  },
  {
   "cell_type": "code",
   "execution_count": 251,
   "metadata": {},
   "outputs": [
    {
     "name": "stdout",
     "output_type": "stream",
     "text": [
      "Accuracy, Precision, Recall, F-score\n",
      "0.954     0.967      0.906    0.932\n"
     ]
    }
   ],
   "source": [
    "from sklearn.metrics import accuracy_score\n",
    "y_pred = model.predict(test_x_reduced).argmax(axis=-1)\n",
    "acc = accuracy_score(y_pred, test_y)\n",
    "scores = precision_recall_fscore_support(test_y, y_pred, average='macro')\n",
    "print(\"Accuracy, Precision, Recall, F-score\")\n",
    "print(str(round(acc,3)) + \"     \" + str(round(scores[0],3))\n",
    "         + \"      \" + str(round(scores[1],3)) + \"    \" + str(round(scores[2],3)))"
   ]
  },
  {
   "cell_type": "code",
   "execution_count": 32,
   "metadata": {},
   "outputs": [
    {
     "data": {
      "text/plain": [
       "Int64Index([  51,   62,   63,  224,  229,  248,  251,  252,  436,  576,\n",
       "            ...\n",
       "            8155, 8156, 8511, 8514, 8599, 8627, 8747, 8751, 8816, 8824],\n",
       "           dtype='int64', length=113)"
      ]
     },
     "execution_count": 32,
     "metadata": {},
     "output_type": "execute_result"
    }
   ],
   "source": [
    "test_y[y_pred!=test_y].index"
   ]
  },
  {
   "cell_type": "code",
   "execution_count": 33,
   "metadata": {
    "scrolled": true
   },
   "outputs": [
    {
     "data": {
      "text/plain": [
       "b' and expenses, including\\nlegal fees, and [2] YOU HAVE NO REMEDIES FOR NEGLIGENCE OR\\nUNDER STRICT LIABILITY, OR FOR BREACH OF WARRANTY OR CONTRACT,\\nINCLUDING BUT NOT LIMITED TO INDIRECT, CONSEQUENTIAL, PUNITIVE\\nOR INCIDENTAL DAMAGES, EVEN IF YOU GIVE NOTICE OF THE\\nPOSSIBILITY OF SUCH DAMAGES.\\n\\nIf you discover a Defect in this eBook within 90 days of\\nreceiving it, you can receive a refund of the money (if any)\\nyou paid for it by sending an explanatory note within that\\ntime to the person you received it from. If you received it\\non a physical medium, you must return it with your note, and\\nsuch person may choose to alternatively give you a replacement\\ncopy. If you received it electronically, such person may\\nchoose to alternatively give you a second opportunity to\\nreceive it electronically.\\n\\nTHIS EBOOK IS OTHERWISE PROVIDED TO YOU \"AS-IS\". NO OTHER\\nWARRANTIES OF ANY KIND, EXPRESS OR IMPLIED, ARE MADE TO YOU AS\\nTO THE EBOOK OR ANY MEDIUM IT MAY BE ON, INCLUDING BUT NOT\\nLIMITED TO WARRANTIES OF MERCHANTABILITY OR FITNESS FOR A\\nPARTICULAR PURPOSE.\\n\\nSome states do not allow disclaimers of implied warranties or\\nthe exclusion or limitation of consequential damages, so the\\nabove disclaimers and exclusions may not apply to you, and you\\nmay have other legal rights.\\n\\nINDEMNITY\\nYou will indemnify and hold Michael Hart, the Foundation,\\nand its trustees and agents, and any volunteers associated\\nwith the production and distribution of Project Gutenberg-tm\\ntexts harmless, from all liability, cost and expense, including\\nlegal fees, that arise directly or indirectly from any of the\\nfollowing that you do or cause:  [1] distribution of this eBook,\\n[2] alteration, modification, or addition to the eBook,\\nor [3] any Defect.\\n\\nDISTRIBUTION UNDER \"PROJECT GUTENBERG-tm\"\\nYou may distribute copies of this eBook electronically, or by\\ndisk, book or any other medium if you either delete this\\n\"Small Print!\" and all other references to Project Gutenberg,\\nor:\\n\\n[1]  Only give exact copies of it.  Among other things, this\\n     requires that you do not remove, alter or modify the\\n     eBook or this \"small print!\" statement.  You may however,\\n     if you wish, distribute this eBook in machine readable\\n     binary, compressed, mark-up, or proprietary form,\\n     including any form resulting from conversion by word\\n     processing or hypertext software, but only so long as\\n     *EITHER*:\\n\\n     [*]  The eBook, when displayed, is clearly readable, and\\n          does *not* contain characters other than tho'"
      ]
     },
     "execution_count": 33,
     "metadata": {},
     "output_type": "execute_result"
    }
   ],
   "source": [
    "texts.data[51]"
   ]
  },
  {
   "cell_type": "code",
   "execution_count": 36,
   "metadata": {},
   "outputs": [
    {
     "data": {
      "text/plain": [
       "b'copy, display, perform, distribute or redistribute this\\nelectronic work, or any part of this electronic work, without\\nprominently displaying the sentence set forth in paragraph 1.E.1 with\\nactive links or immediate access to the full terms of the Project\\nGutenberg-tm License.\\n\\n1.E.6.  You may convert to and distribute this work in any binary,\\ncompressed, marked up, nonproprietary or proprietary form, including any\\nword processing or hypertext form.  However, if you provide access to or\\ndistribute copies of a Project Gutenberg-tm work in a format other than\\n\"Plain Vanilla ASCII\" or other format used in the official version\\nposted on the official Project Gutenberg-tm web site (www.gutenberg.net),\\nyou must, at no additional cost, fee or expense to the user, provide a\\ncopy, a means of exporting a copy, or a means of obtaining a copy upon\\nrequest, of the work in its original \"Plain Vanilla ASCII\" or other\\nform.  Any alternate format must include the full Project Gutenberg-tm\\nLicense as specified in paragraph 1.E.1.\\n\\n1.E.7.  Do not charge a fee for access to, viewing, displaying,\\nperforming, copying or distributing any Project Gutenberg-tm works\\nunless you comply with paragraph 1.E.8 or 1.E.9.\\n\\n1.E.8.  You may charge a reasonable fee for copies of or providing\\naccess to or distributing Project Gutenberg-tm electronic works provided\\nthat\\n\\n- You pay a royalty fee of 20% of the gross profits you derive from\\n     the use of Project Gutenberg-tm works calculated using the method\\n     you already use to calculate your applicable taxes.  The fee is\\n     owed to the owner of the Project Gutenberg-tm trademark, but he\\n     has agreed to donate royalties under this paragraph to the\\n     Project Gutenberg Literary Archive Foundation.  Royalty payments\\n     must be paid within 60 days following each date on which you\\n     prepare (or are legally required to prepare) your periodic tax\\n     returns.  Royalty payments should be clearly marked as such and\\n     sent to the Project Gutenberg Literary Archive Foundation at the\\n     address specified in Section 4, \"Information about donations to\\n     the Project Gutenberg Literary Archive Foundation.\"\\n\\n- You provide a full refund of any money paid by a user who notifies\\n     you in writing (or by e-mail) within 30 days of receipt that s/he\\n     does not agree to the terms of the full Project Gutenberg-tm\\n     License.  You must require such a user to return or\\n     destroy all copies of the works possessed in a physical medium\\n     a'"
      ]
     },
     "execution_count": 36,
     "metadata": {},
     "output_type": "execute_result"
    }
   ],
   "source": [
    "texts.data[8824]"
   ]
  },
  {
   "cell_type": "code",
   "execution_count": 264,
   "metadata": {},
   "outputs": [
    {
     "data": {
      "image/png": "[encoded data removed]",
      "text/plain": [
       "<Figure size 432x288 with 1 Axes>"
      ]
     },
     "metadata": {},
     "output_type": "display_data"
    }
   ],
   "source": [
    "from collections import Counter\n",
    "sizes = Counter(author_labels)\n",
    "counts = list(sizes.values())\n",
    "titles = list(sizes.keys())\n",
    "fig1, ax1 = plt.subplots()\n",
    "colors = ['#37AB65', '#3DF735', '#AD6D70', '#EC2504', '#8C0B90', '#C0E4FF', '#27B502', '#7C60A8', '#CF95D7', '#F6CC1D']\n",
    "ax1.pie(counts, labels=titles, startangle=90, colors=colors)\n",
    "#draw circle\n",
    "centre_circle = plt.Circle((0,0),0.70,fc='white')\n",
    "fig = plt.gcf()\n",
    "fig.gca().add_artist(centre_circle)\n",
    "# Equal aspect ratio ensures that pie is drawn as a circle\n",
    "ax1.axis('equal')  \n",
    "plt.tight_layout()\n",
    "plt.show()\n"
   ]
  },
  {
   "cell_type": "code",
   "execution_count": 253,
   "metadata": {
    "scrolled": true
   },
   "outputs": [
    {
     "data": {
      "image/png": "[encoded data removed]",
      "text/plain": [
       "<Figure size 432x288 with 1 Axes>"
      ]
     },
     "metadata": {},
     "output_type": "display_data"
    }
   ],
   "source": [
    "pd.Series(labels).plot.hist(grid=True, bins=11, rwidth=0.9,\n",
    "                   color='#d1b33e')\n",
    "plt.title('Distribution of data set')\n",
    "plt.xlabel('Novel')\n",
    "plt.ylabel('Samples')\n",
    "plt.grid(axis='y', alpha=0.75)\n",
    "plt.box(False)\n",
    "plt.grid(False)"
   ]
  },
  {
   "cell_type": "code",
   "execution_count": 260,
   "metadata": {},
   "outputs": [
    {
     "data": {
      "text/plain": [
       "['joyce',\n",
       " 'joyce',\n",
       " 'twain',\n",
       " 'twain',\n",
       " 'twain',\n",
       " 'twain',\n",
       " 'doyle',\n",
       " 'benson',\n",
       " 'benson',\n",
       " 'benson',\n",
       " 'austin',\n",
       " 'austin',\n",
       " 'gilman',\n",
       " 'gilman',\n",
       " 'gilman',\n",
       " 'swift',\n",
       " 'swift',\n",
       " 'swift',\n",
       " 'twain',\n",
       " 'twain',\n",
       " 'gilman',\n",
       " 'gilman',\n",
       " 'gilman',\n",
       " 'austin',\n",
       " 'austin',\n",
       " 'benson',\n",
       " 'doyle',\n",
       " 'doyle',\n",
       " 'gilman',\n",
       " 'poe',\n",
       " 'poe',\n",
       " 'poe',\n",
       " 'poe',\n",
       " 'poe',\n",
       " 'caroll',\n",
       " 'caroll',\n",
       " 'doyle',\n",
       " 'doyle',\n",
       " 'joyce',\n",
       " 'joyce',\n",
       " 'joyce',\n",
       " 'joyce',\n",
       " 'twain',\n",
       " 'dickens',\n",
       " 'dickens',\n",
       " 'wilde',\n",
       " 'joyce',\n",
       " 'joyce',\n",
       " 'joyce',\n",
       " 'joyce',\n",
       " 'joyce',\n",
       " 'caroll',\n",
       " 'gilman',\n",
       " 'gilman',\n",
       " 'twain',\n",
       " 'twain',\n",
       " 'twain',\n",
       " 'twain',\n",
       " 'dickens',\n",
       " 'wilde',\n",
       " 'austin',\n",
       " 'doyle',\n",
       " 'doyle',\n",
       " 'doyle',\n",
       " 'caroll',\n",
       " 'caroll',\n",
       " 'caroll',\n",
       " 'swift',\n",
       " 'swift',\n",
       " 'swift',\n",
       " 'swift',\n",
       " 'austin',\n",
       " 'swift',\n",
       " 'dickens',\n",
       " 'dickens',\n",
       " 'austin',\n",
       " 'austin',\n",
       " 'joyce',\n",
       " 'joyce',\n",
       " 'dickens',\n",
       " 'dickens',\n",
       " 'dickens',\n",
       " 'dickens',\n",
       " 'benson',\n",
       " 'benson',\n",
       " 'benson',\n",
       " 'poe',\n",
       " 'wilde',\n",
       " 'wilde',\n",
       " 'wilde',\n",
       " 'austin',\n",
       " 'austin',\n",
       " 'austin',\n",
       " 'austin',\n",
       " 'twain',\n",
       " 'twain',\n",
       " 'twain',\n",
       " 'twain',\n",
       " 'twain',\n",
       " 'twain']"
      ]
     },
     "execution_count": 260,
     "metadata": {},
     "output_type": "execute_result"
    }
   ],
   "source": [
    "type(y_pred)\n",
    "len(y_pred)\n",
    "len(test_y)\n",
    "list(test_authors[y_pred!=test_y])"
   ]
  },
  {
   "cell_type": "code",
   "execution_count": 261,
   "metadata": {},
   "outputs": [
    {
     "ename": "TypeError",
     "evalue": "Empty 'DataFrame': no numeric data to plot",
     "output_type": "error",
     "traceback": [
      "\u001b[0;31m---------------------------------------------------------------------------\u001b[0m",
      "\u001b[0;31mTypeError\u001b[0m                                 Traceback (most recent call last)",
      "\u001b[0;32m<ipython-input-261-e0ad0950b30c>\u001b[0m in \u001b[0;36m<module>\u001b[0;34m()\u001b[0m\n\u001b[1;32m      1\u001b[0m test_authors[y_pred!=test_y].plot.hist(grid=True, bins=11, rwidth=0.9,\n\u001b[0;32m----> 2\u001b[0;31m                    color='#8c2a2a')\n\u001b[0m\u001b[1;32m      3\u001b[0m \u001b[0mplt\u001b[0m\u001b[0;34m.\u001b[0m\u001b[0mtitle\u001b[0m\u001b[0;34m(\u001b[0m\u001b[0;34m'Distribution of false predictions'\u001b[0m\u001b[0;34m)\u001b[0m\u001b[0;34m\u001b[0m\u001b[0m\n\u001b[1;32m      4\u001b[0m \u001b[0mplt\u001b[0m\u001b[0;34m.\u001b[0m\u001b[0mxlabel\u001b[0m\u001b[0;34m(\u001b[0m\u001b[0;34m'Novel'\u001b[0m\u001b[0;34m)\u001b[0m\u001b[0;34m\u001b[0m\u001b[0m\n\u001b[1;32m      5\u001b[0m \u001b[0mplt\u001b[0m\u001b[0;34m.\u001b[0m\u001b[0mylabel\u001b[0m\u001b[0;34m(\u001b[0m\u001b[0;34m'Samples'\u001b[0m\u001b[0;34m)\u001b[0m\u001b[0;34m\u001b[0m\u001b[0m\n",
      "\u001b[0;32m/home/ewenw/.local/lib/python3.6/site-packages/pandas/plotting/_core.py\u001b[0m in \u001b[0;36mhist\u001b[0;34m(self, bins, **kwds)\u001b[0m\n\u001b[1;32m   2831\u001b[0m         \u001b[0maxes\u001b[0m \u001b[0;34m:\u001b[0m \u001b[0;34m:\u001b[0m\u001b[0;32mclass\u001b[0m\u001b[0;34m:\u001b[0m\u001b[0;31m`\u001b[0m\u001b[0mmatplotlib\u001b[0m\u001b[0;34m.\u001b[0m\u001b[0maxes\u001b[0m\u001b[0;34m.\u001b[0m\u001b[0mAxes\u001b[0m\u001b[0;31m`\u001b[0m \u001b[0;32mor\u001b[0m \u001b[0mnumpy\u001b[0m\u001b[0;34m.\u001b[0m\u001b[0mndarray\u001b[0m \u001b[0mof\u001b[0m \u001b[0mthem\u001b[0m\u001b[0;34m\u001b[0m\u001b[0m\n\u001b[1;32m   2832\u001b[0m         \"\"\"\n\u001b[0;32m-> 2833\u001b[0;31m         \u001b[0;32mreturn\u001b[0m \u001b[0mself\u001b[0m\u001b[0;34m(\u001b[0m\u001b[0mkind\u001b[0m\u001b[0;34m=\u001b[0m\u001b[0;34m'hist'\u001b[0m\u001b[0;34m,\u001b[0m \u001b[0mbins\u001b[0m\u001b[0;34m=\u001b[0m\u001b[0mbins\u001b[0m\u001b[0;34m,\u001b[0m \u001b[0;34m**\u001b[0m\u001b[0mkwds\u001b[0m\u001b[0;34m)\u001b[0m\u001b[0;34m\u001b[0m\u001b[0m\n\u001b[0m\u001b[1;32m   2834\u001b[0m \u001b[0;34m\u001b[0m\u001b[0m\n\u001b[1;32m   2835\u001b[0m     @Appender(_kde_docstring % {\n",
      "\u001b[0;32m/home/ewenw/.local/lib/python3.6/site-packages/pandas/plotting/_core.py\u001b[0m in \u001b[0;36m__call__\u001b[0;34m(self, kind, ax, figsize, use_index, title, grid, legend, style, logx, logy, loglog, xticks, yticks, xlim, ylim, rot, fontsize, colormap, table, yerr, xerr, label, secondary_y, **kwds)\u001b[0m\n\u001b[1;32m   2739\u001b[0m                            \u001b[0mcolormap\u001b[0m\u001b[0;34m=\u001b[0m\u001b[0mcolormap\u001b[0m\u001b[0;34m,\u001b[0m \u001b[0mtable\u001b[0m\u001b[0;34m=\u001b[0m\u001b[0mtable\u001b[0m\u001b[0;34m,\u001b[0m \u001b[0myerr\u001b[0m\u001b[0;34m=\u001b[0m\u001b[0myerr\u001b[0m\u001b[0;34m,\u001b[0m\u001b[0;34m\u001b[0m\u001b[0m\n\u001b[1;32m   2740\u001b[0m                            \u001b[0mxerr\u001b[0m\u001b[0;34m=\u001b[0m\u001b[0mxerr\u001b[0m\u001b[0;34m,\u001b[0m \u001b[0mlabel\u001b[0m\u001b[0;34m=\u001b[0m\u001b[0mlabel\u001b[0m\u001b[0;34m,\u001b[0m \u001b[0msecondary_y\u001b[0m\u001b[0;34m=\u001b[0m\u001b[0msecondary_y\u001b[0m\u001b[0;34m,\u001b[0m\u001b[0;34m\u001b[0m\u001b[0m\n\u001b[0;32m-> 2741\u001b[0;31m                            **kwds)\n\u001b[0m\u001b[1;32m   2742\u001b[0m     \u001b[0m__call__\u001b[0m\u001b[0;34m.\u001b[0m\u001b[0m__doc__\u001b[0m \u001b[0;34m=\u001b[0m \u001b[0mplot_series\u001b[0m\u001b[0;34m.\u001b[0m\u001b[0m__doc__\u001b[0m\u001b[0;34m\u001b[0m\u001b[0m\n\u001b[1;32m   2743\u001b[0m \u001b[0;34m\u001b[0m\u001b[0m\n",
      "\u001b[0;32m/home/ewenw/.local/lib/python3.6/site-packages/pandas/plotting/_core.py\u001b[0m in \u001b[0;36mplot_series\u001b[0;34m(data, kind, ax, figsize, use_index, title, grid, legend, style, logx, logy, loglog, xticks, yticks, xlim, ylim, rot, fontsize, colormap, table, yerr, xerr, label, secondary_y, **kwds)\u001b[0m\n\u001b[1;32m   2000\u001b[0m                  \u001b[0myerr\u001b[0m\u001b[0;34m=\u001b[0m\u001b[0myerr\u001b[0m\u001b[0;34m,\u001b[0m \u001b[0mxerr\u001b[0m\u001b[0;34m=\u001b[0m\u001b[0mxerr\u001b[0m\u001b[0;34m,\u001b[0m\u001b[0;34m\u001b[0m\u001b[0m\n\u001b[1;32m   2001\u001b[0m                  \u001b[0mlabel\u001b[0m\u001b[0;34m=\u001b[0m\u001b[0mlabel\u001b[0m\u001b[0;34m,\u001b[0m \u001b[0msecondary_y\u001b[0m\u001b[0;34m=\u001b[0m\u001b[0msecondary_y\u001b[0m\u001b[0;34m,\u001b[0m\u001b[0;34m\u001b[0m\u001b[0m\n\u001b[0;32m-> 2002\u001b[0;31m                  **kwds)\n\u001b[0m\u001b[1;32m   2003\u001b[0m \u001b[0;34m\u001b[0m\u001b[0m\n\u001b[1;32m   2004\u001b[0m \u001b[0;34m\u001b[0m\u001b[0m\n",
      "\u001b[0;32m/home/ewenw/.local/lib/python3.6/site-packages/pandas/plotting/_core.py\u001b[0m in \u001b[0;36m_plot\u001b[0;34m(data, x, y, subplots, ax, kind, **kwds)\u001b[0m\n\u001b[1;32m   1802\u001b[0m         \u001b[0mplot_obj\u001b[0m \u001b[0;34m=\u001b[0m \u001b[0mklass\u001b[0m\u001b[0;34m(\u001b[0m\u001b[0mdata\u001b[0m\u001b[0;34m,\u001b[0m \u001b[0msubplots\u001b[0m\u001b[0;34m=\u001b[0m\u001b[0msubplots\u001b[0m\u001b[0;34m,\u001b[0m \u001b[0max\u001b[0m\u001b[0;34m=\u001b[0m\u001b[0max\u001b[0m\u001b[0;34m,\u001b[0m \u001b[0mkind\u001b[0m\u001b[0;34m=\u001b[0m\u001b[0mkind\u001b[0m\u001b[0;34m,\u001b[0m \u001b[0;34m**\u001b[0m\u001b[0mkwds\u001b[0m\u001b[0;34m)\u001b[0m\u001b[0;34m\u001b[0m\u001b[0m\n\u001b[1;32m   1803\u001b[0m \u001b[0;34m\u001b[0m\u001b[0m\n\u001b[0;32m-> 1804\u001b[0;31m     \u001b[0mplot_obj\u001b[0m\u001b[0;34m.\u001b[0m\u001b[0mgenerate\u001b[0m\u001b[0;34m(\u001b[0m\u001b[0;34m)\u001b[0m\u001b[0;34m\u001b[0m\u001b[0m\n\u001b[0m\u001b[1;32m   1805\u001b[0m     \u001b[0mplot_obj\u001b[0m\u001b[0;34m.\u001b[0m\u001b[0mdraw\u001b[0m\u001b[0;34m(\u001b[0m\u001b[0;34m)\u001b[0m\u001b[0;34m\u001b[0m\u001b[0m\n\u001b[1;32m   1806\u001b[0m     \u001b[0;32mreturn\u001b[0m \u001b[0mplot_obj\u001b[0m\u001b[0;34m.\u001b[0m\u001b[0mresult\u001b[0m\u001b[0;34m\u001b[0m\u001b[0m\n",
      "\u001b[0;32m/home/ewenw/.local/lib/python3.6/site-packages/pandas/plotting/_core.py\u001b[0m in \u001b[0;36mgenerate\u001b[0;34m(self)\u001b[0m\n\u001b[1;32m    256\u001b[0m     \u001b[0;32mdef\u001b[0m \u001b[0mgenerate\u001b[0m\u001b[0;34m(\u001b[0m\u001b[0mself\u001b[0m\u001b[0;34m)\u001b[0m\u001b[0;34m:\u001b[0m\u001b[0;34m\u001b[0m\u001b[0m\n\u001b[1;32m    257\u001b[0m         \u001b[0mself\u001b[0m\u001b[0;34m.\u001b[0m\u001b[0m_args_adjust\u001b[0m\u001b[0;34m(\u001b[0m\u001b[0;34m)\u001b[0m\u001b[0;34m\u001b[0m\u001b[0m\n\u001b[0;32m--> 258\u001b[0;31m         \u001b[0mself\u001b[0m\u001b[0;34m.\u001b[0m\u001b[0m_compute_plot_data\u001b[0m\u001b[0;34m(\u001b[0m\u001b[0;34m)\u001b[0m\u001b[0;34m\u001b[0m\u001b[0m\n\u001b[0m\u001b[1;32m    259\u001b[0m         \u001b[0mself\u001b[0m\u001b[0;34m.\u001b[0m\u001b[0m_setup_subplots\u001b[0m\u001b[0;34m(\u001b[0m\u001b[0;34m)\u001b[0m\u001b[0;34m\u001b[0m\u001b[0m\n\u001b[1;32m    260\u001b[0m         \u001b[0mself\u001b[0m\u001b[0;34m.\u001b[0m\u001b[0m_make_plot\u001b[0m\u001b[0;34m(\u001b[0m\u001b[0;34m)\u001b[0m\u001b[0;34m\u001b[0m\u001b[0m\n",
      "\u001b[0;32m/home/ewenw/.local/lib/python3.6/site-packages/pandas/plotting/_core.py\u001b[0m in \u001b[0;36m_compute_plot_data\u001b[0;34m(self)\u001b[0m\n\u001b[1;32m    371\u001b[0m         \u001b[0;32mif\u001b[0m \u001b[0mis_empty\u001b[0m\u001b[0;34m:\u001b[0m\u001b[0;34m\u001b[0m\u001b[0m\n\u001b[1;32m    372\u001b[0m             raise TypeError('Empty {0!r}: no numeric data to '\n\u001b[0;32m--> 373\u001b[0;31m                             'plot'.format(numeric_data.__class__.__name__))\n\u001b[0m\u001b[1;32m    374\u001b[0m \u001b[0;34m\u001b[0m\u001b[0m\n\u001b[1;32m    375\u001b[0m         \u001b[0mself\u001b[0m\u001b[0;34m.\u001b[0m\u001b[0mdata\u001b[0m \u001b[0;34m=\u001b[0m \u001b[0mnumeric_data\u001b[0m\u001b[0;34m\u001b[0m\u001b[0m\n",
      "\u001b[0;31mTypeError\u001b[0m: Empty 'DataFrame': no numeric data to plot"
     ]
    }
   ],
   "source": [
    "test_authors[y_pred!=test_y].plot.hist(grid=True, bins=11, rwidth=0.9,\n",
    "                   color='#8c2a2a')\n",
    "plt.title('Distribution of false predictions')\n",
    "plt.xlabel('Novel')\n",
    "plt.ylabel('Samples')\n",
    "plt.box(False)\n",
    "plt.grid(False)"
   ]
  },
  {
   "cell_type": "code",
   "execution_count": 156,
   "metadata": {},
   "outputs": [
    {
     "data": {
      "text/plain": [
       "array([11,  9, 13, 18,  7,  8, 11, 10,  9, 13,  7])"
      ]
     },
     "execution_count": 156,
     "metadata": {},
     "output_type": "execute_result"
    }
   ],
   "source": [
    "np.bincount(test_y[y_pred!=test_y])"
   ]
  },
  {
   "cell_type": "code",
   "execution_count": 177,
   "metadata": {},
   "outputs": [
    {
     "data": {
      "image/png": "[encoded data removed]",
      "text/plain": [
       "<Figure size 432x288 with 1 Axes>"
      ]
     },
     "metadata": {},
     "output_type": "display_data"
    }
   ],
   "source": [
    "pd.Series(test_y[y_pred!=test_y]).plot.hist(grid=True, bins=11, rwidth=0.9,\n",
    "                   color='#000000')\n",
    "plt.title('Distribution of samples that were wrongly labeled')\n",
    "plt.xlabel('Novel')\n",
    "plt.ylabel('Samples')\n",
    "plt.box(False)\n",
    "plt.grid(False)"
   ]
  },
  {
   "cell_type": "code",
   "execution_count": 133,
   "metadata": {},
   "outputs": [],
   "source": [
    "# Best features visualization\n",
    "selector = SelectKBest(f_classif)\n",
    "fit = selector.fit(df, labels)\n",
    "indices = np.argsort(fit.scores_)[::-1]\n",
    "\n",
    "\n"
   ]
  },
  {
   "cell_type": "code",
   "execution_count": 145,
   "metadata": {},
   "outputs": [
    {
     "data": {
      "image/png": "[encoded data removed]",
      "text/plain": [
       "<Figure size 432x288 with 1 Axes>"
      ]
     },
     "metadata": {},
     "output_type": "display_data"
    }
   ],
   "source": [
    "features = []\n",
    "for i in range(20):\n",
    "    features.append(df.columns[indices[i]])\n",
    "plt.figure()\n",
    "plt.barh(features, fit.scores_[indices[range(20)]], color='#39a371', align='center')\n",
    "plt.title('Most distinguishing n-grams (ANOVA)')\n",
    "plt.xlabel('F Statistics')\n",
    "plt.ylabel('Features')\n",
    "plt.gca().invert_yaxis()\n",
    "plt.box(False)\n",
    "plt.grid(False)\n",
    "plt.show()"
   ]
  },
  {
   "cell_type": "code",
   "execution_count": 144,
   "metadata": {},
   "outputs": [
    {
     "data": {
      "image/png": "[encoded data removed]",
      "text/plain": [
       "<Figure size 432x288 with 1 Axes>"
      ]
     },
     "metadata": {},
     "output_type": "display_data"
    }
   ],
   "source": [
    "features = []\n",
    "for i in range(20):\n",
    "    features.append(df.columns[indices[len(df)-i]])\n",
    "plt.figure()\n",
    "plt.barh(features, fit.scores_[indices[range(20)]], color='#bf433d', align='center')\n",
    "plt.title('Least distinguishing n-grams (ANOVA)')\n",
    "plt.xlabel('F Statistics')\n",
    "plt.ylabel('Features')\n",
    "plt.gca()\n",
    "plt.box(False)\n",
    "plt.grid(False)\n",
    "plt.show()"
   ]
  },
  {
   "cell_type": "code",
   "execution_count": 252,
   "metadata": {},
   "outputs": [
    {
     "data": {
      "image/png": "[encoded data removed]",
      "text/plain": [
       "<Figure size 432x288 with 1 Axes>"
      ]
     },
     "metadata": {},
     "output_type": "display_data"
    }
   ],
   "source": [
    "models = [\"Naive Bayes\", \"Logistic Regression\", \"Linear SVM\", \"Random Forests\", \"AdaBoost (Decision Trees)\", \"Neural Network\"]\n",
    "accuracies = [0.678, 0.918, 0.949, 0.903, 0.495, 0.954]\n",
    "f_scores = [0.632, 0.814, 0.927, 0.803, 0.383, 0.932]\n",
    "fig, ax = plt.subplots()\n",
    "indices = np.arange(len(accuracies))\n",
    "width = 0.8\n",
    "plt.bar(indices, accuracies, width=width, \n",
    "        color='#39a371', label='Accuracy')\n",
    "plt.bar([i+0.25*width for i in indices], f_scores, \n",
    "        width=width, color='#4350f6', label='F1')\n",
    "\n",
    "ax.set_xticklabels((\"\",\"Naive Bayes\", \"Logistic Regression\", \"Linear SVM\", \"Random Forests\", \"AdaBoost\", \"Neural Network\"),rotation=25)\n",
    "plt.title(\"Model performances compared\")\n",
    "plt.legend()\n",
    "plt.show()"
   ]
  }
 ],
 "metadata": {
  "kernelspec": {
   "display_name": "Python 3",
   "language": "python",
   "name": "python3"
  },
  "language_info": {
   "codemirror_mode": {
    "name": "ipython",
    "version": 3
   },
   "file_extension": ".py",
   "mimetype": "text/x-python",
   "name": "python",
   "nbconvert_exporter": "python",
   "pygments_lexer": "ipython3",
   "version": "3.6.5"
  }
 },
 "nbformat": 4,
 "nbformat_minor": 2
}
