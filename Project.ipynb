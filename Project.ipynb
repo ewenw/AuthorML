{
 "cells": [
  {
   "cell_type": "code",
   "execution_count": 230,
   "metadata": {},
   "outputs": [],
   "source": [
    "from sklearn.feature_extraction.text import TfidfVectorizer\n",
    "from sklearn.datasets import load_files\n",
    "from sklearn.feature_selection import SelectKBest, chi2, f_classif\n",
    "import pandas as pd\n",
    "import numpy as np"
   ]
  },
  {
   "cell_type": "code",
   "execution_count": null,
   "metadata": {},
   "outputs": [],
   "source": [
    "def parse_paragraphs(content):"
   ]
  },
  {
   "cell_type": "code",
   "execution_count": null,
   "metadata": {},
   "outputs": [],
   "source": [
    "def paragraph_features(paragraph):\n",
    "    features = CountVectorizer(analyzer='char_wb', ngram_range=(2,2), min_df = 0).fit_transform(paragraph).toarray()\n",
    "    for paragraph in paragraphs:\n",
    "        "
   ]
  },
  {
   "cell_type": "code",
   "execution_count": null,
   "metadata": {},
   "outputs": [],
   "source": [
    "def load_features(file, label):\n",
    "    content = load_file(file)\n",
    "    paragraphs = parse_paragraphs(content)\n",
    "    vectorizer = CountVectorizer(min_df=2)\n",
    "    vectorizer.fit_transform(paragraphs)\n",
    "    count_vectors = vectorizers\n",
    "    transformed_vectors = TfidfTransformer().fit_transform(count_vectors).to_array()"
   ]
  },
  {
   "cell_type": "code",
   "execution_count": 158,
   "metadata": {},
   "outputs": [],
   "source": [
    "texts = load_files('data', encoding=\"ansi\")\n",
    "sample_length = 2000\n",
    "\n",
    "def split_text(text, sample_length):\n",
    "    samples = []\n",
    "    i=0\n",
    "    while i < len(text):\n",
    "        while i > 0 and text[i].isalpha():\n",
    "            i+=1\n",
    "            samples[len(samples)-1] += text[i]\n",
    "        samples.append(text[i:i+sample_length+1])\n",
    "        i += sample_length\n",
    "    del samples[0]\n",
    "    return samples\n",
    "data = []\n",
    "labels = []\n",
    "i = 0\n",
    "j = 0\n",
    "for text in texts.data:\n",
    "    data += split_text(text, sample_length)\n",
    "    while i < len(data):\n",
    "        labels.append(texts.target[j])\n",
    "        i+=1\n",
    "    j+=1\n",
    "texts.data = data\n",
    "texts.target = labels"
   ]
  },
  {
   "cell_type": "code",
   "execution_count": 190,
   "metadata": {},
   "outputs": [],
   "source": [
    "# extract unigrams and bigrams\n",
    "count_vect = TfidfVectorizer(stop_words='english',lowercase=True, ngram_range=(1,2), min_df=0.0005, max_df=0.1)\n",
    "vector = count_vect.fit_transform(texts.data)"
   ]
  },
  {
   "cell_type": "code",
   "execution_count": 191,
   "metadata": {},
   "outputs": [
    {
     "data": {
      "text/plain": [
       "(11028, 35715)"
      ]
     },
     "execution_count": 191,
     "metadata": {},
     "output_type": "execute_result"
    }
   ],
   "source": [
    "df = pd.DataFrame(vector.todense(), columns=count_vect.get_feature_names())\n",
    "df.shape"
   ]
  },
  {
   "cell_type": "code",
   "execution_count": 239,
   "metadata": {},
   "outputs": [],
   "source": [
    "selector = SelectKBest(chi2, k=10000)\n",
    "selector.fit_transform(df, labels)\n",
    "selected_feature_ids = selector.get_support(indices=True)\n",
    "selected_df = df.iloc[:,selected_feature_ids]"
   ]
  },
  {
   "cell_type": "code",
   "execution_count": 240,
   "metadata": {},
   "outputs": [
    {
     "data": {
      "text/plain": [
       "(8305, 10000)"
      ]
     },
     "execution_count": 240,
     "metadata": {},
     "output_type": "execute_result"
    }
   ],
   "source": [
    "msk = np.random.rand(len(selected_df)) < 0.75\n",
    "train_x = selected_df[msk]\n",
    "train_y = pd.Series(labels)[msk]\n",
    "test_x = selected_df[~msk]\n",
    "test_y = pd.Series(labels)[~msk]\n",
    "train_x.shape"
   ]
  },
  {
   "cell_type": "code",
   "execution_count": 231,
   "metadata": {},
   "outputs": [],
   "source": [
    "from sklearn.naive_bayes import MultinomialNB"
   ]
  },
  {
   "cell_type": "code",
   "execution_count": 241,
   "metadata": {},
   "outputs": [
    {
     "data": {
      "text/plain": [
       "MultinomialNB(alpha=1.0, class_prior=None, fit_prior=True)"
      ]
     },
     "execution_count": 241,
     "metadata": {},
     "output_type": "execute_result"
    }
   ],
   "source": [
    "nb = MultinomialNB()\n",
    "nb.fit(train_x, train_y)"
   ]
  },
  {
   "cell_type": "code",
   "execution_count": 244,
   "metadata": {},
   "outputs": [
    {
     "data": {
      "text/plain": [
       "0.8431876606683805"
      ]
     },
     "execution_count": 244,
     "metadata": {},
     "output_type": "execute_result"
    }
   ],
   "source": [
    "nb.score(test_x, test_y)"
   ]
  }
 ],
 "metadata": {
  "kernelspec": {
   "display_name": "Python 3",
   "language": "python",
   "name": "python3"
  },
  "language_info": {
   "codemirror_mode": {
    "name": "ipython",
    "version": 3
   },
   "file_extension": ".py",
   "mimetype": "text/x-python",
   "name": "python",
   "nbconvert_exporter": "python",
   "pygments_lexer": "ipython3",
   "version": "3.6.2"
  }
 },
 "nbformat": 4,
 "nbformat_minor": 2
}
