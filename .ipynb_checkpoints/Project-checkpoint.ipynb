{
 "cells": [
  {
   "cell_type": "code",
   "execution_count": 76,
   "metadata": {},
   "outputs": [],
   "source": [
    "from sklearn.feature_extraction.text import TfidfTransformer\n",
    "from sklearn.feature_extraction.text import CountVectorizer\n",
    "from sklearn.datasets import load_files\n",
    "from functools import reduce"
   ]
  },
  {
   "cell_type": "code",
   "execution_count": null,
   "metadata": {},
   "outputs": [],
   "source": [
    "def parse_paragraphs(content):"
   ]
  },
  {
   "cell_type": "code",
   "execution_count": null,
   "metadata": {},
   "outputs": [],
   "source": [
    "def paragraph_features(paragraph):\n",
    "    features = CountVectorizer(analyzer='char_wb', ngram_range=(2,2), min_df = 0).fit_transform(paragraph).toarray()\n",
    "    for paragraph in paragraphs:\n",
    "        "
   ]
  },
  {
   "cell_type": "code",
   "execution_count": null,
   "metadata": {},
   "outputs": [],
   "source": [
    "def load_features(file, label):\n",
    "    content = load_file(file)\n",
    "    paragraphs = parse_paragraphs(content)\n",
    "    vectorizer = CountVectorizer(min_df=2)\n",
    "    vectorizer.fit_transform(paragraphs)\n",
    "    count_vectors = vectorizers\n",
    "    transformed_vectors = TfidfTransformer().fit_transform(count_vectors).to_array()"
   ]
  },
  {
   "cell_type": "code",
   "execution_count": 103,
   "metadata": {},
   "outputs": [],
   "source": [
    "texts = load_files('data', encoding=\"ansi\")\n",
    "\n",
    "def split_text(text, sample_length):\n",
    "    samples = []\n",
    "    i=0\n",
    "    while i < len(text):\n",
    "        while i > 0 and text[i].isalpha():\n",
    "            i+=1\n",
    "            samples[len(samples)-1] += text[i]\n",
    "        samples.append(text[i:i+sample_length+1])\n",
    "        i += sample_length\n",
    "    del samples[0]\n",
    "    return samples\n",
    "data = []\n",
    "labels = []\n",
    "i = 0\n",
    "j = 0\n",
    "for text in texts.data:\n",
    "    data += split_text(text, 1000)\n",
    "    while i < len(data):\n",
    "        labels.append(texts.target[j])\n",
    "        i+=1\n",
    "    j+=1\n",
    "texts.data = data\n",
    "texts.target = labels"
   ]
  },
  {
   "cell_type": "code",
   "execution_count": 109,
   "metadata": {},
   "outputs": [
    {
     "data": {
      "text/plain": [
       "<22058x58830 sparse matrix of type '<class 'numpy.int64'>'\n",
       "\twith 1458076 stored elements in Compressed Sparse Row format>"
      ]
     },
     "execution_count": 109,
     "metadata": {},
     "output_type": "execute_result"
    }
   ],
   "source": [
    "count_vect = CountVectorizer(stop_words='english',lowercase=True, ngram_range=(1,2))\n",
    "count_vect.fit_transform(texts.data)"
   ]
  }
 ],
 "metadata": {
  "kernelspec": {
   "display_name": "Python 3",
   "language": "python",
   "name": "python3"
  },
  "language_info": {
   "codemirror_mode": {
    "name": "ipython",
    "version": 3
   },
   "file_extension": ".py",
   "mimetype": "text/x-python",
   "name": "python",
   "nbconvert_exporter": "python",
   "pygments_lexer": "ipython3",
   "version": "3.6.2"
  }
 },
 "nbformat": 4,
 "nbformat_minor": 2
}
